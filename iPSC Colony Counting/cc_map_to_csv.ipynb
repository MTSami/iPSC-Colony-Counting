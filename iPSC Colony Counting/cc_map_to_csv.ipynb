{
 "cells": [
  {
   "cell_type": "code",
   "execution_count": 36,
   "id": "1ce85394",
   "metadata": {},
   "outputs": [],
   "source": [
    "import cv2\n",
    "import os\n",
    "import matplotlib.pyplot as plt\n",
    "import numpy as np\n",
    "import pandas as pd\n",
    "import re\n",
    "import run_gauss"
   ]
  },
  {
   "cell_type": "code",
   "execution_count": 37,
   "id": "2f8fd993",
   "metadata": {},
   "outputs": [],
   "source": [
    "## MUST be set to prevent ellipse in large arrays\n",
    "np.set_printoptions(threshold = 1000000)"
   ]
  },
  {
   "cell_type": "code",
   "execution_count": 38,
   "id": "24596caa",
   "metadata": {},
   "outputs": [],
   "source": [
    "masks_path = './locating-objects-without-bboxes/data/512_512/masks/train/'\n",
    "# masks_path = './locating-objects-without-bboxes/data/512_512/masks/test/'\n",
    "# masks_path = './locating-objects-without-bboxes/data/512_512/masks/val/'"
   ]
  },
  {
   "cell_type": "code",
   "execution_count": 39,
   "id": "88abc312",
   "metadata": {},
   "outputs": [
    {
     "name": "stdout",
     "output_type": "stream",
     "text": [
      "120\n"
     ]
    }
   ],
   "source": [
    "masks = os.listdir(masks_path)\n",
    "masks = [mask for mask in masks if mask.endswith(\".png\")]\n",
    "print(len(masks))"
   ]
  },
  {
   "cell_type": "code",
   "execution_count": 40,
   "id": "a3aa6e56",
   "metadata": {},
   "outputs": [],
   "source": [
    "data = []"
   ]
  },
  {
   "cell_type": "code",
   "execution_count": 41,
   "id": "90a6bde2",
   "metadata": {},
   "outputs": [],
   "source": [
    "def fix_coordinates(centroids):    \n",
    "    # Array to store (x, y) swapped as (y, x)\n",
    "    swapped_coordinates = []\n",
    "    \n",
    "    for coord in centroids:\n",
    "        swapped_coordinates.append((coord[1], coord[0]))\n",
    "   \n",
    "    return np.array(swapped_coordinates)"
   ]
  },
  {
   "cell_type": "code",
   "execution_count": 42,
   "id": "cc75dd02",
   "metadata": {},
   "outputs": [],
   "source": [
    "for mask in masks:\n",
    "    #print(\"Image name: \", mask)\n",
    "    mask_img = cv2.imread(os.path.join(masks_path, mask), cv2.IMREAD_GRAYSCALE)\n",
    "    # Threshold mask\n",
    "    mask_img = cv2.threshold(mask_img, 0, 255, cv2.THRESH_BINARY | cv2.THRESH_OTSU)[1]\n",
    "    \n",
    "    process_img_name = re.sub(\"_mask\", \"\", mask )\n",
    "    #print(\"Processed Image name: \", process_img_name)\n",
    "    \n",
    "    output = cv2.connectedComponentsWithStats(mask_img)\n",
    "    (numLabels, labels, stats, centroids) = output\n",
    "    \n",
    "    # Ignore the centroid of the background\n",
    "    centroids = centroids [1:, :]\n",
    "    centroids = fix_coordinates(centroids)\n",
    "    centroids = np.array2string(centroids, separator = ',')\n",
    "    \n",
    "    # Get prob map for the mask, resize to 256x256 as per model requirement\n",
    "    mask_img_resized = cv2.resize(mask_img, (256, 256))\n",
    "    mask_img_resized_thresh = cv2.threshold(mask_img_resized, 0, 255, cv2.THRESH_BINARY | cv2.THRESH_OTSU)[1]\n",
    "    prob_map = run_gauss.make_gaussian_spread(mask_img_resized_thresh, alpha = 0.3)\n",
    "    prob_map = np.where(prob_map <= 0.1, 0.0, prob_map)\n",
    "    prob_map = np.array2string(prob_map, separator = ',')\n",
    "    \n",
    "    data.append([process_img_name, numLabels-1, centroids, prob_map])"
   ]
  },
  {
   "cell_type": "code",
   "execution_count": 43,
   "id": "ef4f3201",
   "metadata": {},
   "outputs": [
    {
     "data": {
      "text/plain": [
       "<matplotlib.image.AxesImage at 0x2aaaef031790>"
      ]
     },
     "execution_count": 43,
     "metadata": {},
     "output_type": "execute_result"
    },
    {
     "data": {
      "image/png": "[encoded data removed]",
      "text/plain": [
       "<Figure size 432x288 with 1 Axes>"
      ]
     },
     "metadata": {
      "needs_background": "light"
     },
     "output_type": "display_data"
    }
   ],
   "source": [
    "plt.imshow(mask_img, cmap=\"gray\")"
   ]
  },
  {
   "cell_type": "code",
   "execution_count": 44,
   "id": "3271473a",
   "metadata": {},
   "outputs": [],
   "source": [
    "# test = data[0]\n",
    "\n",
    "# img_name = test[0]\n",
    "# num_labels = test[1]\n",
    "# centroids = test[2]\n",
    "# prob_map = test[3]\n",
    "\n",
    "# print(\"Name: \", img_name)\n",
    "# print(\"Count: \", num_labels)\n",
    "# print(\"Centroids Shape: \", centroids.shape)\n",
    "\n",
    "# plt.figure(figsize=(15,15))\n",
    "# plt.title(\"Gaussian Heatmap of mask\")\n",
    "# plt.imshow(prob_map, cmap = 'jet')\n",
    "# print(prob_map.shape, prob_map.dtype)\n",
    "# print(type(prob_map))"
   ]
  },
  {
   "cell_type": "code",
   "execution_count": 45,
   "id": "ad8307d1",
   "metadata": {},
   "outputs": [],
   "source": [
    "# print(data)"
   ]
  },
  {
   "cell_type": "code",
   "execution_count": 46,
   "id": "3fd6293e",
   "metadata": {},
   "outputs": [
    {
     "data": {
      "text/html": [
       "<div>\n",
       "<style scoped>\n",
       "    .dataframe tbody tr th:only-of-type {\n",
       "        vertical-align: middle;\n",
       "    }\n",
       "\n",
       "    .dataframe tbody tr th {\n",
       "        vertical-align: top;\n",
       "    }\n",
       "\n",
       "    .dataframe thead th {\n",
       "        text-align: right;\n",
       "    }\n",
       "</style>\n",
       "<table border=\"1\" class=\"dataframe\">\n",
       "  <thead>\n",
       "    <tr style=\"text-align: right;\">\n",
       "      <th></th>\n",
       "      <th>filename</th>\n",
       "      <th>count</th>\n",
       "      <th>locations</th>\n",
       "      <th>map</th>\n",
       "    </tr>\n",
       "  </thead>\n",
       "  <tbody>\n",
       "    <tr>\n",
       "      <th>0</th>\n",
       "      <td>48_adhikarisaugat.png</td>\n",
       "      <td>177</td>\n",
       "      <td>[[ 48.96590909,222.875     ],\\n [ 54.13333333,...</td>\n",
       "      <td>[[0.        ,0.        ,0.        ,0.        ,...</td>\n",
       "    </tr>\n",
       "    <tr>\n",
       "      <th>1</th>\n",
       "      <td>95_pandirinikhilkumar.png</td>\n",
       "      <td>143</td>\n",
       "      <td>[[ 60.4375    ,200.6875    ],\\n [ 58.        ,...</td>\n",
       "      <td>[[0.        ,0.        ,0.        ,0.        ,...</td>\n",
       "    </tr>\n",
       "    <tr>\n",
       "      <th>2</th>\n",
       "      <td>22_cheniminenihemanthi.png</td>\n",
       "      <td>92</td>\n",
       "      <td>[[ 77.82278481,205.13924051],\\n [119.01834862,...</td>\n",
       "      <td>[[0.        ,0.        ,0.        ,0.        ,...</td>\n",
       "    </tr>\n",
       "    <tr>\n",
       "      <th>3</th>\n",
       "      <td>6_peddinenigowtham.png</td>\n",
       "      <td>385</td>\n",
       "      <td>[[ 55.5       ,269.14705882],\\n [ 67.31403118,...</td>\n",
       "      <td>[[0.        ,0.        ,0.        ,0.        ,...</td>\n",
       "    </tr>\n",
       "    <tr>\n",
       "      <th>4</th>\n",
       "      <td>84_vodapallikalyani.png</td>\n",
       "      <td>68</td>\n",
       "      <td>[[ 75.11111111,204.02222222],\\n [ 77.84210526,...</td>\n",
       "      <td>[[0.        ,0.        ,0.        ,0.        ,...</td>\n",
       "    </tr>\n",
       "    <tr>\n",
       "      <th>...</th>\n",
       "      <td>...</td>\n",
       "      <td>...</td>\n",
       "      <td>...</td>\n",
       "      <td>...</td>\n",
       "    </tr>\n",
       "    <tr>\n",
       "      <th>115</th>\n",
       "      <td>76_dayanasri.png</td>\n",
       "      <td>587</td>\n",
       "      <td>[[ 64.17647059,218.73529412],\\n [ 68.        ,...</td>\n",
       "      <td>[[0.        ,0.        ,0.        ,0.        ,...</td>\n",
       "    </tr>\n",
       "    <tr>\n",
       "      <th>116</th>\n",
       "      <td>3_anandankit.png</td>\n",
       "      <td>223</td>\n",
       "      <td>[[ 47.60377358,252.22641509],\\n [ 51.34482759,...</td>\n",
       "      <td>[[0.        ,0.        ,0.        ,0.        ,...</td>\n",
       "    </tr>\n",
       "    <tr>\n",
       "      <th>117</th>\n",
       "      <td>34_duddukurileelakrishna.png</td>\n",
       "      <td>81</td>\n",
       "      <td>[[102.33333333,289.33333333],\\n [103.125     ,...</td>\n",
       "      <td>[[0.        ,0.        ,0.        ,0.        ,...</td>\n",
       "    </tr>\n",
       "    <tr>\n",
       "      <th>118</th>\n",
       "      <td>28_dasarkadeep.png</td>\n",
       "      <td>206</td>\n",
       "      <td>[[ 40.55984556,260.9034749 ],\\n [ 55.13475177,...</td>\n",
       "      <td>[[0.        ,0.        ,0.        ,0.        ,...</td>\n",
       "    </tr>\n",
       "    <tr>\n",
       "      <th>119</th>\n",
       "      <td>22_shakerbilawal.png</td>\n",
       "      <td>81</td>\n",
       "      <td>[[119.22222222,209.79166667],\\n [158.33333333,...</td>\n",
       "      <td>[[0.        ,0.        ,0.        ,0.        ,...</td>\n",
       "    </tr>\n",
       "  </tbody>\n",
       "</table>\n",
       "<p>120 rows × 4 columns</p>\n",
       "</div>"
      ],
      "text/plain": [
       "                         filename count  \\\n",
       "0           48_adhikarisaugat.png   177   \n",
       "1       95_pandirinikhilkumar.png   143   \n",
       "2      22_cheniminenihemanthi.png    92   \n",
       "3          6_peddinenigowtham.png   385   \n",
       "4         84_vodapallikalyani.png    68   \n",
       "..                            ...   ...   \n",
       "115              76_dayanasri.png   587   \n",
       "116              3_anandankit.png   223   \n",
       "117  34_duddukurileelakrishna.png    81   \n",
       "118            28_dasarkadeep.png   206   \n",
       "119          22_shakerbilawal.png    81   \n",
       "\n",
       "                                             locations  \\\n",
       "0    [[ 48.96590909,222.875     ],\\n [ 54.13333333,...   \n",
       "1    [[ 60.4375    ,200.6875    ],\\n [ 58.        ,...   \n",
       "2    [[ 77.82278481,205.13924051],\\n [119.01834862,...   \n",
       "3    [[ 55.5       ,269.14705882],\\n [ 67.31403118,...   \n",
       "4    [[ 75.11111111,204.02222222],\\n [ 77.84210526,...   \n",
       "..                                                 ...   \n",
       "115  [[ 64.17647059,218.73529412],\\n [ 68.        ,...   \n",
       "116  [[ 47.60377358,252.22641509],\\n [ 51.34482759,...   \n",
       "117  [[102.33333333,289.33333333],\\n [103.125     ,...   \n",
       "118  [[ 40.55984556,260.9034749 ],\\n [ 55.13475177,...   \n",
       "119  [[119.22222222,209.79166667],\\n [158.33333333,...   \n",
       "\n",
       "                                                   map  \n",
       "0    [[0.        ,0.        ,0.        ,0.        ,...  \n",
       "1    [[0.        ,0.        ,0.        ,0.        ,...  \n",
       "2    [[0.        ,0.        ,0.        ,0.        ,...  \n",
       "3    [[0.        ,0.        ,0.        ,0.        ,...  \n",
       "4    [[0.        ,0.        ,0.        ,0.        ,...  \n",
       "..                                                 ...  \n",
       "115  [[0.        ,0.        ,0.        ,0.        ,...  \n",
       "116  [[0.        ,0.        ,0.        ,0.        ,...  \n",
       "117  [[0.        ,0.        ,0.        ,0.        ,...  \n",
       "118  [[0.        ,0.        ,0.        ,0.        ,...  \n",
       "119  [[0.        ,0.        ,0.        ,0.        ,...  \n",
       "\n",
       "[120 rows x 4 columns]"
      ]
     },
     "execution_count": 46,
     "metadata": {},
     "output_type": "execute_result"
    }
   ],
   "source": [
    "data = np.array(data)\n",
    "data = pd.DataFrame(data, columns = ['filename', 'count', 'locations', 'map']) \n",
    "data"
   ]
  },
  {
   "cell_type": "code",
   "execution_count": 47,
   "id": "b6cd3f72",
   "metadata": {},
   "outputs": [],
   "source": [
    "data.to_csv('./locating-objects-without-bboxes/data/512_512/images/train/gt.csv', index = False)"
   ]
  },
  {
   "cell_type": "code",
   "execution_count": 48,
   "id": "5bba509a",
   "metadata": {},
   "outputs": [],
   "source": [
    "# data.to_csv('./locating-objects-without-bboxes/data/512_512/images/test/gt.csv', index = False)"
   ]
  },
  {
   "cell_type": "code",
   "execution_count": 49,
   "id": "288414c4",
   "metadata": {},
   "outputs": [],
   "source": [
    "# data.to_csv('./locating-objects-without-bboxes/data/512_512/images/val/gt.csv', index = False)"
   ]
  },
  {
   "cell_type": "code",
   "execution_count": null,
   "id": "24aa253e",
   "metadata": {},
   "outputs": [],
   "source": []
  }
 ],
 "metadata": {
  "anaconda-cloud": {},
  "kernelspec": {
   "display_name": "Python [conda env:.conda-deep]",
   "language": "python",
   "name": "conda-env-.conda-deep-py"
  },
  "language_info": {
   "codemirror_mode": {
    "name": "ipython",
    "version": 3
   },
   "file_extension": ".py",
   "mimetype": "text/x-python",
   "name": "python",
   "nbconvert_exporter": "python",
   "pygments_lexer": "ipython3",
   "version": "3.7.9"
  }
 },
 "nbformat": 4,
 "nbformat_minor": 5
}
