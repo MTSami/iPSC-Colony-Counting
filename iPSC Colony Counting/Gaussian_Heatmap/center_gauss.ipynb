{
 "cells": [
  {
   "cell_type": "code",
   "execution_count": 1,
   "id": "be5742bd",
   "metadata": {},
   "outputs": [],
   "source": [
    "import numpy as np\n",
    "import cv2\n",
    "import os\n",
    "import matplotlib.pyplot as plt\n",
    "import copy as cp"
   ]
  },
  {
   "cell_type": "code",
   "execution_count": 2,
   "id": "c8da1f46",
   "metadata": {},
   "outputs": [],
   "source": [
    "img_path = \"./14_kongarachanikya_mask.png\""
   ]
  },
  {
   "cell_type": "code",
   "execution_count": 3,
   "id": "e9b7edde",
   "metadata": {},
   "outputs": [],
   "source": [
    "image = cv2.imread(img_path)\n",
    "image_gray = cv2.cvtColor(image, cv2.COLOR_BGR2GRAY)"
   ]
  },
  {
   "cell_type": "code",
   "execution_count": 4,
   "id": "36265809",
   "metadata": {},
   "outputs": [
    {
     "data": {
      "text/plain": [
       "<matplotlib.image.AxesImage at 0x2aaae34faf98>"
      ]
     },
     "execution_count": 4,
     "metadata": {},
     "output_type": "execute_result"
    },
    {
     "data": {
      "image/png": "[encoded data removed]",
      "text/plain": [
       "<Figure size 720x720 with 1 Axes>"
      ]
     },
     "metadata": {
      "needs_background": "light"
     },
     "output_type": "display_data"
    }
   ],
   "source": [
    "image_thresholded = cv2.threshold(image_gray, 0, 255, cv2.THRESH_BINARY | cv2.THRESH_OTSU)[1]\n",
    "plt.figure(figsize=(10,10))\n",
    "plt.imshow(image_thresholded, cmap = 'gray')"
   ]
  },
  {
   "cell_type": "code",
   "execution_count": 5,
   "id": "a2d8d36e",
   "metadata": {},
   "outputs": [],
   "source": [
    "def fix_theta(angle, w, h):\n",
    "    if w < h:\n",
    "#         print(\"Width Less\")\n",
    "        inter = 90 - angle\n",
    "        angle = inter + 180\n",
    "    else: \n",
    "#         print(\"Width Greater\")\n",
    "        angle = -angle\n",
    "        \n",
    "    return angle"
   ]
  },
  {
   "cell_type": "code",
   "execution_count": 6,
   "id": "cd60a9f8",
   "metadata": {},
   "outputs": [],
   "source": [
    "def generate_2d_gaussian(x_center = 0, \n",
    "                  y_center = 0, \n",
    "                  radius = 1, \n",
    "                  alpha = 0.2,\n",
    "                  angle = 0, \n",
    "                  out_size = (256, 256)):\n",
    "    \n",
    "    \"\"\"\n",
    "    x_center: x coordinate of gaussian center\n",
    "    y_center: y coordinate of gaussian center\n",
    "    radius: Farthest distance from center of CC to contour\n",
    "    alpha: parameter to adjust standard deviation of 2D gaussian\n",
    "    angle: the angle to rotate 2D gaussian axis\n",
    "    out_size: H x W of output 2D gaussian heatmap\n",
    "    \"\"\"\n",
    "    \n",
    "    ## Convert to radian\n",
    "    theta = (2*np.pi*angle) / 360\n",
    "    \n",
    "    ## Generate rows and columns labels\n",
    "    x = np.arange(0, out_size[0], dtype = int)\n",
    "    y = np.arange(0, out_size[1], dtype = int)\n",
    "\n",
    "    \n",
    "    ## Generate meshgrid\n",
    "    xv, yv = np.meshgrid(x, y)    \n",
    "#     print(xv.shape)\n",
    "#     print(yv.shape)\n",
    "    \n",
    "    ## Compte sigma for x and y axis\n",
    "    x_sigma = radius * alpha\n",
    "    y_sigma = radius * alpha * 2 \n",
    "    \n",
    "    \n",
    "    ## Compute rotation coefficients, according to https://en.wikipedia.org/wiki/Gaussian_function\n",
    "    \n",
    "    a = ((np.power(np.cos(theta), 2)) / (2 * np.power(x_sigma, 2))) + \\\n",
    "        ((np.power(np.sin(theta), 2)) / (2 * np.power(y_sigma, 2)))\n",
    "    \n",
    "    b = -(np.sin(2 * theta) / (4 * np.power(x_sigma, 2))) + \\\n",
    "         (np.sin(2 * theta) / (4 * np.power(y_sigma, 2)))\n",
    "    \n",
    "    c = ((np.power(np.sin(theta), 2)) / (2 * np.power(x_sigma, 2))) + \\\n",
    "        ((np.power(np.cos(theta), 2)) / (2 * np.power(y_sigma, 2)))\n",
    "    \n",
    "    ## Generate rotated 2D gaussian map\n",
    "    \n",
    "    gauss_map = np.exp(-( (a*np.power(xv-x_center, 2)) + (2*b*(xv-x_center)*(yv-y_center)) + (c*np.power((yv-y_center),2))))\n",
    "#     print(gauss_map.shape)\n",
    "    \n",
    "    return gauss_map"
   ]
  },
  {
   "cell_type": "code",
   "execution_count": 7,
   "id": "b430269e",
   "metadata": {},
   "outputs": [],
   "source": [
    "def generate_heatmap(mask, alpa):\n",
    "    \n",
    "    \"\"\"\n",
    "    mask: binary mask {0, 1}\n",
    "    alpha: adjustable parameter to change the spread of 2D gaussian\n",
    "    \"\"\"\n",
    "    \n",
    "    ## List to save all gaussian CCs\n",
    "    gauss_cc_list = list()\n",
    "    \n",
    "    ## Generate CCs\n",
    "    numLabels, labels, stats, centroids = cv2.connectedComponentsWithStats(mask)\n",
    "    \n",
    "    ## Loop through each CC\n",
    "    for i in range(1, numLabels):\n",
    "        \n",
    "        single_CC = np.zeros_like(labels)\n",
    "        single_CC = np.where(labels == i, 1, 0).astype(\"uint8\")\n",
    "        \n",
    "        ## Generate contour for current CC\n",
    "        single_CC_contours, _ = cv2.findContours(single_CC, cv2.RETR_EXTERNAL, cv2.CHAIN_APPROX_NONE)\n",
    "        \n",
    "        ## Get the furthest point from center == radius of the tightest fitting square\n",
    "        (x,y), radius = cv2.minEnclosingCircle(single_CC_contours[0])\n",
    "        \n",
    "        ## Get rotated, tightest bouding box\n",
    "        _, (h, w), angle = cv2.minAreaRect(single_CC_contours[0])\n",
    "        \n",
    "        ## Adjust bbox angle to gaussian y-axis angle\n",
    "        angle = fix_theta(angle, w, h)\n",
    "        \n",
    "        ## Generate 2D gaussian map for a single CC\n",
    "        single_CC_map = generate_2d_gaussian(x_center = int(x), \n",
    "                                             y_center = int(y), \n",
    "                                             radius = radius, \n",
    "                                             alpha = alpa,\n",
    "                                             angle = angle,\n",
    "                                             out_size = single_CC.shape)\n",
    "        \n",
    "        gauss_cc_list.append(single_CC_map)\n",
    "        \n",
    "        \n",
    "    ### Handle empty mask\n",
    "    if len(gauss_cc_list) == 0:\n",
    "        gt_map = np.zeros_like(image_thresh).astype('float32')\n",
    "    else:\n",
    "        gt_map = np.array(gauss_cc_list)\n",
    "        gt_map = np.max(gt_map, axis = 0)\n",
    "         \n",
    "    assert np.max(gt_map) <= 1.0, \"Probabilty must not exceed 1.0\"\n",
    "    assert np.min(gt_map) >= 0.0, \"Probabilty must not be less than 0.0\"\n",
    "    assert len(np.where(gt_map == 1)[0]) == numLabels-1, \"There should 1.0 at the center of each CC\"\n",
    "    \n",
    "    return gt_map"
   ]
  },
  {
   "cell_type": "code",
   "execution_count": 8,
   "id": "3d600c4f",
   "metadata": {
    "scrolled": false
   },
   "outputs": [],
   "source": [
    "gt_map = generate_heatmap(image_thresholded, 0.2)"
   ]
  },
  {
   "cell_type": "code",
   "execution_count": 9,
   "id": "0fd6cd74",
   "metadata": {},
   "outputs": [
    {
     "data": {
      "text/plain": [
       "<matplotlib.image.AxesImage at 0x2aaae3da3e80>"
      ]
     },
     "execution_count": 9,
     "metadata": {},
     "output_type": "execute_result"
    },
    {
     "data": {
      "image/png": "[encoded data removed]",
      "text/plain": [
       "<Figure size 720x720 with 1 Axes>"
      ]
     },
     "metadata": {
      "needs_background": "light"
     },
     "output_type": "display_data"
    }
   ],
   "source": [
    "plt.figure(figsize=(10,10))\n",
    "plt.imshow(gt_map, cmap = 'jet')"
   ]
  },
  {
   "cell_type": "code",
   "execution_count": null,
   "id": "1730cd22",
   "metadata": {},
   "outputs": [],
   "source": []
  },
  {
   "cell_type": "code",
   "execution_count": null,
   "id": "7d2bd452",
   "metadata": {},
   "outputs": [],
   "source": []
  }
 ],
 "metadata": {
  "anaconda-cloud": {},
  "kernelspec": {
   "display_name": "Python [conda env:.conda-object-locator]",
   "language": "python",
   "name": "conda-env-.conda-object-locator-py"
  },
  "language_info": {
   "codemirror_mode": {
    "name": "ipython",
    "version": 3
   },
   "file_extension": ".py",
   "mimetype": "text/x-python",
   "name": "python",
   "nbconvert_exporter": "python",
   "pygments_lexer": "ipython3",
   "version": "3.6.5"
  }
 },
 "nbformat": 4,
 "nbformat_minor": 5
}
